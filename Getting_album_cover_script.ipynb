{
 "cells": [
  {
   "cell_type": "code",
   "execution_count": 13,
   "metadata": {},
   "outputs": [
    {
     "ename": "ModuleNotFoundError",
     "evalue": "No module named 'spotipy'",
     "output_type": "error",
     "traceback": [
      "\u001b[1;31m---------------------------------------------------------------------------\u001b[0m",
      "\u001b[1;31mModuleNotFoundError\u001b[0m                       Traceback (most recent call last)",
      "Cell \u001b[1;32mIn[13], line 1\u001b[0m\n\u001b[1;32m----> 1\u001b[0m \u001b[38;5;28;01mimport\u001b[39;00m \u001b[38;5;21;01mspotipy\u001b[39;00m\n\u001b[0;32m      2\u001b[0m \u001b[38;5;28;01mfrom\u001b[39;00m \u001b[38;5;21;01mspotipy\u001b[39;00m\u001b[38;5;21;01m.\u001b[39;00m\u001b[38;5;21;01moauth2\u001b[39;00m \u001b[38;5;28;01mimport\u001b[39;00m SpotifyClientCredentials\n\u001b[0;32m      3\u001b[0m \u001b[38;5;28;01mimport\u001b[39;00m \u001b[38;5;21;01mpandas\u001b[39;00m \u001b[38;5;28;01mas\u001b[39;00m \u001b[38;5;21;01mpd\u001b[39;00m\n",
      "\u001b[1;31mModuleNotFoundError\u001b[0m: No module named 'spotipy'"
     ]
    }
   ],
   "source": [
    "import spotipy\n",
    "from spotipy.oauth2 import SpotifyClientCredentials\n",
    "import pandas as pd\n",
    "import time\n",
    "\n",
    "# Spotify API credentials (Replace with your own)\n",
    "CLIENT_ID = \"d9c69b737feb4f00b5c9505dff71f741\"\n",
    "CLIENT_SECRET = \"cd2f7b6ca50b4bac9e2931069ba85351////////\"\n",
    "\n",
    "# Authenticate with Spotify\n",
    "client_credentials_manager = SpotifyClientCredentials(client_id=CLIENT_ID, client_secret=CLIENT_SECRET)\n",
    "sp = spotipy.Spotify(client_credentials_manager=client_credentials_manager)\n",
    "\n",
    "# Load the dataset\n",
    "file_path = \"spotify_2023.csv\"  # Update with your actual file path\n",
    "df = pd.read_csv(file_path)\n",
    "\n",
    "# Create a new column for album cover URLs\n",
    "df[\"album_cover_url\"] = None\n",
    "\n",
    "# Function to get album cover URL from Spotify API\n",
    "def get_album_cover_url(track, artist):\n",
    "    try:\n",
    "        query = f\"track:{track} artist:{artist}\"\n",
    "        result = sp.search(q=query, type=\"track\", limit=1)\n",
    "\n",
    "        if result[\"tracks\"][\"items\"]:\n",
    "            return result[\"tracks\"][\"items\"][0][\"album\"][\"images\"][0][\"url\"]  # First image (largest)\n",
    "        else:\n",
    "            return None  # No result found\n",
    "\n",
    "    except Exception as e:\n",
    "        print(f\"Error fetching cover for {track} by {artist}: {e}\")\n",
    "        return None\n",
    "\n",
    "# Loop through the dataset and fetch cover URLs\n",
    "for i, row in df.iterrows():\n",
    "    track_name = row[\"Track\"]\n",
    "    artist_name = row[\"Artist\"]\n",
    "\n",
    "    cover_url = get_album_cover_url(track_name, artist_name)\n",
    "    df.at[i, \"album_cover_url\"] = cover_url\n",
    "\n",
    "    time.sleep(0.5)  # To avoid API rate limits\n",
    "\n",
    "# Save the updated dataset\n",
    "df.to_csv(\"spotify_2023_with_covers.csv\", index=False)\n",
    "print(\"Updated dataset saved as 'spotify_2023_with_covers.csv'\")\n"
   ]
  },
  {
   "cell_type": "code",
   "execution_count": null,
   "metadata": {},
   "outputs": [],
   "source": []
  }
 ],
 "metadata": {
  "kernelspec": {
   "display_name": "base",
   "language": "python",
   "name": "python3"
  },
  "language_info": {
   "codemirror_mode": {
    "name": "ipython",
    "version": 3
   },
   "file_extension": ".py",
   "mimetype": "text/x-python",
   "name": "python",
   "nbconvert_exporter": "python",
   "pygments_lexer": "ipython3",
   "version": "3.11.5"
  }
 },
 "nbformat": 4,
 "nbformat_minor": 2
}
